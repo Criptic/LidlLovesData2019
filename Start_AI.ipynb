{
 "cells": [
  {
   "cell_type": "code",
   "execution_count": 1,
   "metadata": {},
   "outputs": [],
   "source": [
    "# Get Data\n",
    "import pandas as pd\n",
    "store_data = pd.read_csv(\"./hackathon_ejr.csv\")\n",
    "store_data_indexed = store_data.set_index(store_data['dat_calendar'])\n",
    "\n",
    "# Split for each store\n",
    "st1 = store_data_indexed[store_data_indexed['store_id'] == 12125]\n",
    "st2 = store_data_indexed[store_data_indexed['store_id'] == 11218]\n",
    "st3 = store_data_indexed[store_data_indexed['store_id'] == 11890]"
   ]
  },
  {
   "cell_type": "code",
   "execution_count": 3,
   "metadata": {},
   "outputs": [],
   "source": [
    "# Convert df to np-Array\n",
    "np_st1 = st1.to_numpy()\n",
    "max_this = store_data_indexed['QUANTITYOFSALESINUNITSKGBYEANE']\n",
    "training_data = store_data_indexed.iloc[:, [1,2,4,7,8,10,11]]\n",
    "np_max = max_this.to_numpy()\n",
    "np_traing_data = training_data.to_numpy()"
   ]
  }
 ],
 "metadata": {
  "kernelspec": {
   "display_name": "Python 3",
   "language": "python",
   "name": "python3"
  },
  "language_info": {
   "codemirror_mode": {
    "name": "ipython",
    "version": 3
   },
   "file_extension": ".py",
   "mimetype": "text/x-python",
   "name": "python",
   "nbconvert_exporter": "python",
   "pygments_lexer": "ipython3",
   "version": "3.6.8"
  }
 },
 "nbformat": 4,
 "nbformat_minor": 2
}
